{
 "cells": [
  {
   "cell_type": "code",
   "execution_count": 8,
   "id": "combined-champion",
   "metadata": {},
   "outputs": [],
   "source": [
    "# import pandas as pd\n",
    "# from sklearn.linear_model import LinearRegression\n",
    "# import matplotlib.pyplot as plt\n",
    "# import plotly.express as px\n",
    "# import hvplot.pandas\n",
    "# import statsmodels.api as sm"
   ]
  },
  {
   "cell_type": "code",
   "execution_count": null,
   "id": "worldwide-vienna",
   "metadata": {},
   "outputs": [],
   "source": [
    "file_path = \"../Machine_Learning_1/Infection_Data.csv\"\n",
    "infection_data = pd.read_csv(file_path)\n",
    "infection_data"
   ]
  },
  {
   "cell_type": "code",
   "execution_count": null,
   "id": "efficient-updating",
   "metadata": {},
   "outputs": [],
   "source": [
    "file2_path = \"../Machine_Learning_1/HDI_GDP_Vacc.csv\"\n",
    "hdi_gdp_vacc = pd.read_csv(file2_path)"
   ]
  },
  {
   "cell_type": "code",
   "execution_count": null,
   "id": "burning-riding",
   "metadata": {},
   "outputs": [],
   "source": [
    "infection_data.columns"
   ]
  },
  {
   "cell_type": "code",
   "execution_count": null,
   "id": "artistic-boulder",
   "metadata": {},
   "outputs": [],
   "source": [
    "hdi_gdp_vacc.columns"
   ]
  },
  {
   "cell_type": "code",
   "execution_count": null,
   "id": "equipped-puzzle",
   "metadata": {},
   "outputs": [],
   "source": [
    "# Filter data by 2021-03-18\n",
    "infection_filtered = infection_data[infection_data['date']=='3/18/21']\n",
    "infection_filtered"
   ]
  },
  {
   "cell_type": "code",
   "execution_count": null,
   "id": "federal-annual",
   "metadata": {},
   "outputs": [],
   "source": [
    "# Create DF with columns we want to analyze \n",
    "infection_cols = infection_filtered[[\"iso_code\", \"continent\", \"location\", \"total_cases\", \"total_deaths\", \"total_cases_per_million\", \"total_deaths_per_million\", \"population\", \"population_density\", \"median_age\", \"aged_65_older\", \"aged_70_older\", \"gdp_per_capita\", \"life_expectancy\", \"human_development_index\"]]\n",
    "infection_cols   "
   ]
  },
  {
   "cell_type": "code",
   "execution_count": null,
   "id": "median-gibraltar",
   "metadata": {
    "scrolled": true
   },
   "outputs": [],
   "source": [
    "infection_cols.isnull().sum()"
   ]
  },
  {
   "cell_type": "code",
   "execution_count": null,
   "id": "small-immune",
   "metadata": {
    "scrolled": true
   },
   "outputs": [],
   "source": [
    "data_clean = infection_cols.dropna()\n",
    "data_clean"
   ]
  },
  {
   "cell_type": "code",
   "execution_count": null,
   "id": "polar-northwest",
   "metadata": {},
   "outputs": [],
   "source": [
    "data_clean.to_csv('Infection_Clean.csv')"
   ]
  },
  {
   "cell_type": "markdown",
   "id": "running-basement",
   "metadata": {},
   "source": [
    "## HDI vs Total Cases per Million"
   ]
  },
  {
   "cell_type": "code",
   "execution_count": null,
   "id": "subsequent-angola",
   "metadata": {},
   "outputs": [],
   "source": [
    "# HDI vs tocal cases per million  \n",
    "\n",
    "X = data_clean[\"human_development_index\"].values.reshape(-1,1)\n",
    "y = data_clean[\"total_cases_per_million\"]\n",
    "\n",
    "model = LinearRegression()\n",
    "\n",
    "model.fit(X,y)\n",
    "\n",
    "y_pred = model.predict(X)\n",
    "\n",
    "print('Intercept: \\n', model.intercept_)\n",
    "print('Coefficients: \\n', model.coef_)\n",
    "\n",
    "plt.scatter(X, y)\n",
    "plt.plot(X, y_pred, c='red')\n",
    "plt.xlabel(\"HDI\")\n",
    "plt.ylabel(\"Total Cases per 1M\")\n",
    "plt.ylim(0,140000)\n",
    "plt.show()"
   ]
  },
  {
   "cell_type": "markdown",
   "id": "ordinary-botswana",
   "metadata": {},
   "source": [
    "## HDI vs Population "
   ]
  },
  {
   "cell_type": "code",
   "execution_count": null,
   "id": "stuffed-monday",
   "metadata": {},
   "outputs": [],
   "source": [
    "X = data_clean[\"population_density\"].values.reshape(-1,1)\n",
    "y = data_clean[\"human_development_index\"]\n",
    "\n",
    "model = LinearRegression()\n",
    "\n",
    "model.fit(X,y)\n",
    "\n",
    "y_pred = model.predict(X)\n",
    "\n",
    "print('Intercept: \\n', model.intercept_)\n",
    "print('Coefficients: \\n', model.coef_)\n",
    "\n",
    "plt.scatter(X, y)\n",
    "plt.plot(X, y_pred, c='red')\n",
    "plt.xlabel(\"Population Density\")\n",
    "plt.ylabel(\"Total Cases per 1M\")\n",
    "plt.xlim(0,1000)\n",
    "plt.show()"
   ]
  },
  {
   "cell_type": "markdown",
   "id": "instant-registrar",
   "metadata": {},
   "source": [
    "## GDP per Capita vs Total Cases per Million"
   ]
  },
  {
   "cell_type": "code",
   "execution_count": null,
   "id": "ordered-thickness",
   "metadata": {},
   "outputs": [],
   "source": [
    "# HDI vs tocal cases per million  \n",
    "\n",
    "X = data_clean[\"gdp_per_capita\"].values.reshape(-1,1)\n",
    "y = data_clean[\"total_cases_per_million\"]\n",
    "\n",
    "model = LinearRegression()\n",
    "\n",
    "model.fit(X,y)\n",
    "\n",
    "y_pred = model.predict(X)\n",
    "\n",
    "print('Intercept: \\n', model.intercept_)\n",
    "print('Coefficients: \\n', model.coef_)\n",
    "\n",
    "plt.scatter(X, y)\n",
    "plt.plot(X, y_pred, c='red')\n",
    "plt.xlabel(\"GDP per Capita\")\n",
    "plt.ylabel(\"Total Cases per 1M\")\n",
    "plt.show()"
   ]
  },
  {
   "cell_type": "markdown",
   "id": "welsh-barbados",
   "metadata": {},
   "source": [
    "## Population Density vs Total Cases per Million "
   ]
  },
  {
   "cell_type": "code",
   "execution_count": null,
   "id": "helpful-forth",
   "metadata": {},
   "outputs": [],
   "source": [
    "X = data_clean[\"population_density\"].values.reshape(-1,1)\n",
    "y = data_clean[\"total_cases_per_million\"]\n",
    "\n",
    "model = LinearRegression()\n",
    "\n",
    "model.fit(X,y)\n",
    "\n",
    "y_pred = model.predict(X)\n",
    "\n",
    "print('Intercept: \\n', model.intercept_)\n",
    "print('Coefficients: \\n', model.coef_)\n",
    "\n",
    "plt.scatter(X, y)\n",
    "plt.plot(X, y_pred, c='red')\n",
    "plt.xlabel(\"Population Density\")\n",
    "plt.ylabel(\"Total Cases per 1M\")\n",
    "plt.xlim(0,1000)\n",
    "plt.show()"
   ]
  },
  {
   "cell_type": "markdown",
   "id": "curious-thong",
   "metadata": {},
   "source": [
    "## Median Age vs Total Deaths "
   ]
  },
  {
   "cell_type": "code",
   "execution_count": null,
   "id": "completed-norway",
   "metadata": {},
   "outputs": [],
   "source": [
    "X = data_clean[\"median_age\"].values.reshape(-1,1)\n",
    "y = data_clean[\"total_deaths_per_million\"]\n",
    "\n",
    "model = LinearRegression()\n",
    "\n",
    "model.fit(X,y)\n",
    "\n",
    "y_pred = model.predict(X)\n",
    "\n",
    "print('Intercept: \\n', model.intercept_)\n",
    "print('Coefficients: \\n', model.coef_)\n",
    "\n",
    "plt.scatter(X, y)\n",
    "plt.plot(X, y_pred, c='red')\n",
    "plt.xlabel(\"Median Age\")\n",
    "plt.ylabel(\"Total Deaths per 1M\")\n",
    "plt.show()"
   ]
  },
  {
   "cell_type": "markdown",
   "id": "alternative-acrylic",
   "metadata": {},
   "source": [
    "## Aged 70 or older vs Total Deaths"
   ]
  },
  {
   "cell_type": "code",
   "execution_count": null,
   "id": "young-insert",
   "metadata": {},
   "outputs": [],
   "source": [
    "X = data_clean[\"aged_70_older\"].values.reshape(-1,1)\n",
    "y = data_clean[\"total_deaths_per_million\"]\n",
    "\n",
    "model = LinearRegression()\n",
    "\n",
    "model.fit(X,y)\n",
    "\n",
    "y_pred = model.predict(X)\n",
    "\n",
    "print('Intercept: \\n', model.intercept_)\n",
    "print('Coefficients: \\n', model.coef_)\n",
    "\n",
    "plt.scatter(X, y)\n",
    "plt.plot(X, y_pred, c='red')\n",
    "plt.xlabel(\"Aged 70 or Older\")\n",
    "plt.ylabel(\"Total Deaths per 1M\")\n",
    "plt.show()"
   ]
  },
  {
   "cell_type": "code",
   "execution_count": null,
   "id": "vietnamese-desire",
   "metadata": {},
   "outputs": [],
   "source": []
  }
 ],
 "metadata": {
  "kernelspec": {
   "display_name": "Python 3",
   "language": "python",
   "name": "python3"
  },
  "language_info": {
   "codemirror_mode": {
    "name": "ipython",
    "version": 3
   },
   "file_extension": ".py",
   "mimetype": "text/x-python",
   "name": "python",
   "nbconvert_exporter": "python",
   "pygments_lexer": "ipython3",
   "version": "3.9.2"
  }
 },
 "nbformat": 4,
 "nbformat_minor": 5
}
